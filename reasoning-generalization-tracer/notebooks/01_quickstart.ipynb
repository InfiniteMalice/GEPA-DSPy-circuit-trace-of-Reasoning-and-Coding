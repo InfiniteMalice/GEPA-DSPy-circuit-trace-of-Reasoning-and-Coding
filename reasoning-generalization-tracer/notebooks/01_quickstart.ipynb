{
 "cells": [
  {
   "cell_type": "markdown",
   "metadata": {},
   "source": [
    "# RG-Tracer Quickstart\n",
    "Run \`rg-tracer self-play\` to generate candidates and inspect \`runs/\` artifacts."
   ]
  }
 ],
 "metadata": {
  "kernelspec": {
   "display_name": "Python 3",
   "language": "python",
   "name": "python3"
  },
  "language_info": {
   "name": "python",
   "version": "3.10"
  }
 },
 "nbformat": 4,
 "nbformat_minor": 5
}
